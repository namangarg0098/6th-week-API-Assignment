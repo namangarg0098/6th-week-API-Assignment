{
 "cells": [
  {
   "cell_type": "markdown",
   "id": "538f077b-adc5-40e8-87f4-9525e8b6f5bb",
   "metadata": {},
   "source": [
    "Q1. What is an API? Give an example, where an API is used in real life."
   ]
  },
  {
   "cell_type": "markdown",
   "id": "5ecd7e29-f20a-446d-9c9d-7408d97a60f0",
   "metadata": {},
   "source": [
    "APIs allow developers to sync data between multiple platforms and can facilitate communication among the various microservices in web applications. API integration is what does the\n",
    "work when,for example, you enter a new contact in Salesforce and it auto-populates to Marketo as well.\n"
   ]
  },
  {
   "cell_type": "markdown",
   "id": "675efd62-af7a-4334-846a-aaf38089bab2",
   "metadata": {},
   "source": [
    "In everyday life, APIs power various experiences, from social media interactions to real-time weather data access. Public API examples include social media bots, third-party login,\n",
    "e-commerce transactions, and weather apps.\n"
   ]
  },
  {
   "cell_type": "code",
   "execution_count": null,
   "id": "8ea4b315-264e-487a-b294-4b507fb741e0",
   "metadata": {},
   "outputs": [],
   "source": []
  },
  {
   "cell_type": "markdown",
   "id": "34eaa84a-ec89-4fff-844b-c7cf5a8abe9a",
   "metadata": {},
   "source": [
    "Q2. Give advantages and disadvantages of using API.\n"
   ]
  },
  {
   "cell_type": "markdown",
   "id": "38bf12d9-f755-400f-85bc-03ffe160007e",
   "metadata": {},
   "source": [
    "The future of APIs (Application Programming Interfaces) looks promising, as recent advancements indicate API solutions hold great value in the future of healthcare.\n",
    "For API to continue to take hold of the healthcare industry advancements will continue to be made. Review some of the current API advantages and disadvantages :"
   ]
  },
  {
   "cell_type": "markdown",
   "id": "3a920c4a-2ab1-493f-9171-bdebc1cf07d4",
   "metadata": {},
   "source": [
    "Advantages:\n",
    "\n",
    "1) Increased Interoperability: API solutions enable different software systems to communicate with each other, regardless of their programming language or platform. This enhances the\n",
    "interoperability between systems, allowing for the exchange of data and functionality.\n",
    "2) Improved Efficiency: API driven infrastructures enable developers to reuse code and functionality from existing software systems, saving time and reducing the amount of code that \n",
    "needs to be written from scratch.\n",
    "3) Better User Experience: APIs can enable third-party developers to create applications that integrate with existing software systems, providing a better user experience and increased\n",
    "functionality.\n",
    "4) Increased Flexibility: APIs provide developers with greater flexibility, enabling them to choose the best programming languages and frameworks for their needs.\n",
    "5) New Revenue Streams: APIs can enable companies to create new revenue streams by providing third-party developers with access to their software systems."
   ]
  },
  {
   "cell_type": "markdown",
   "id": "9315053d-df3e-473f-8526-2719cc3e8ba6",
   "metadata": {},
   "source": [
    "Disadvantages:\n",
    "    \n",
    "1) Security Concerns: API infrastructures can be vulnerable to security breaches, such as SQL injection attacks and cross-site scripting (XSS) attacks, making it crucial to implement\n",
    "security measures to protect against these threats.\n",
    "2) Complexity: APIs can be complex, requiring a significant amount of development effort to implement and maintain.\n",
    "3) Compatibility Issues: APIs can have compatibility issues between different versions of the same software system or between different systems, which can lead to errors and system\n",
    "failures.\n",
    "4) Dependency on Third-Party Developers: APIs rely on third-party developers to create applications that integrate with the software system. This can create dependencies that are\n",
    "outside of the control of the company that owns the software system.\n",
    "5) Governance and Management: APIs require proper governance and management to ensure they are being used correctly and consistently across different applications and systems."
   ]
  },
  {
   "cell_type": "code",
   "execution_count": null,
   "id": "595ba7f6-e13f-4bc8-8b7b-8f3534465dc0",
   "metadata": {},
   "outputs": [],
   "source": []
  },
  {
   "cell_type": "markdown",
   "id": "daa04f62-75a9-4233-9550-47d941b02b5a",
   "metadata": {},
   "source": [
    "Q3. What is a Web API? Differentiate between API and Web API.\n"
   ]
  },
  {
   "cell_type": "markdown",
   "id": "a0a53f74-c31c-4f57-bf2a-b8fdd41affda",
   "metadata": {},
   "source": [
    "Web API is an API as the name suggests, it can be accessed over the web using the HTTP protocol. It is a framework that helps you to create and develop HTTP based RESTFUL services. The web API can be developed by using different technologies such as java, ASP.NET, etc. Web API is used in either a web server or a web browser. Basically Web API is a web development concept. It is limited to Web Application’s client-side and also it does not include a web server or web browser details. If an application is to be used on a distributed system and to provide services on different devices like laptops, mobiles, etc then web API services are used. Web API is the enhanced form of the web application."
   ]
  },
  {
   "cell_type": "markdown",
   "id": "ba93122f-8ef2-4a5e-a79e-bb7f5f362f63",
   "metadata": {},
   "source": [
    "API is an interface that exposes an application's data to outside software, whereas web applications are one type of API with stricter requirements. These requirements include network communication, SOAP as the primary protocol, and less accessibility for the public.27-Jul-2022\n"
   ]
  },
  {
   "cell_type": "code",
   "execution_count": null,
   "id": "03d7e2ea-466c-48c5-a6dc-44f1fb9fe2b5",
   "metadata": {},
   "outputs": [],
   "source": []
  },
  {
   "cell_type": "markdown",
   "id": "c3245803-0b14-4276-9d22-6380c8a7ccb1",
   "metadata": {},
   "source": [
    "Q4. Explain REST and SOAP Architecture. Mention shortcomings of SOAP.\n"
   ]
  },
  {
   "cell_type": "markdown",
   "id": "84783f9a-51e9-4052-98d9-47d29585037d",
   "metadata": {},
   "source": [
    "REST stands for REpresentational State Transfer and API stands for Application Program Interface. REST is a software architectural style that defines the set of rules to be used for\n",
    "creating web services. Web services which follow the REST architectural style are known as RESTful web services. It allows requesting systems to access and manipulate web resources by\n",
    "using a uniform and predefined set of rules. Interaction in REST based systems happen through Internet’s Hypertext Transfer Protocol (HTTP). \n",
    "\n",
    "A Restful system consists of a:\n",
    "\n",
    "-> client who requests for the resources.\n",
    "-> server who has the resources.\n",
    "\n",
    "It is important to create REST API according to industry standards which results in ease of development and increase client adoption. \n",
    "\n",
    "Architectural Constraints of RESTful API: There are six architectural constraints which makes any web service are listed below:\n",
    "    \n",
    "1) uniform Interface\n",
    "2) Stateless\n",
    "3) Cacheable\n",
    "4) Client-Server\n",
    "5) Layered System\n",
    "6) Code on Demand\n",
    "\n",
    "The only optional constraint of REST architecture is code on demand. If a service violates any other constraint, it cannot strictly be referred to as RESTful."
   ]
  },
  {
   "cell_type": "markdown",
   "id": "3934a53b-d807-41d2-b08b-48c0dac6773c",
   "metadata": {},
   "source": [
    "Simple Object Access Protocol(SOAP) is a network protocol for exchanging structured data between nodes. It uses XML format to transfer messages. It works on top of application layer \n",
    "protocols like HTML and SMTP for notations and transmission. SOAP allows processes to communicate throughout platforms, languages and operating systems, since protocols like HTTP are\n",
    "already installed on all platforms.\n",
    "\n",
    "SOAP was designed by Bob Atkinson, Don Box, Dave Winer, and Mohsen Al-Ghosein at Microsoft in 1998. SOAP was maintained by the XML Protocol Working Group of the World Wide Web\n",
    "Consortium until 2009."
   ]
  },
  {
   "cell_type": "markdown",
   "id": "c4b422e1-c7c4-4e7f-b923-3bf19f5d2494",
   "metadata": {},
   "source": [
    "SOAP provides the envelope for sending Web Services messages over the Internet/Internet. It is part of the set of standards specified by the W3C. SOAP is an alternative to \n",
    "Representational State Transfer (REST) and JavaScript Object Notation (JSON).\n",
    "\n",
    "The SOAP envelope contains two parts:\n",
    "\n",
    "An optional header providing information on authentication, encoding of data, or how a recipient of a SOAP message should process the message.\n",
    "The body that contains the message. These messages can be defined using the WSDL specification.\n",
    "SOAP commonly uses HTTP, but other protocols such as Simple Mail Transfer Protocol (SMTP) may by used. SOAP can be used to exchange complete documents or to call a remote procedure."
   ]
  },
  {
   "cell_type": "code",
   "execution_count": null,
   "id": "ae2d199e-3767-470f-8ea4-25ea23edbe87",
   "metadata": {},
   "outputs": [],
   "source": []
  },
  {
   "cell_type": "markdown",
   "id": "6c155e9b-df9a-4bfe-bbe9-c4207e09375d",
   "metadata": {},
   "source": [
    "Q5. Differentiate between REST and SOAP."
   ]
  },
  {
   "cell_type": "markdown",
   "id": "c1b6b437-61a6-47d0-873a-24951551e3db",
   "metadata": {},
   "source": [
    "SOAP and REST are two different approaches to API design. The SOAP approach is highly structured and uses XML data format. REST is more flexible and allows applications to exchange\n",
    "data in multiple formats.\n"
   ]
  },
  {
   "cell_type": "markdown",
   "id": "a22f139a-5fac-41aa-b340-e14d862dda67",
   "metadata": {},
   "source": [
    "SOAP - Simple Object Access Protocol\n",
    "\n",
    "REST - Representational State Transfer\n",
    "\n",
    "1) What is it?\n",
    "\n",
    "SOAP is a protocol for communication between applications\n",
    "\n",
    "REST is an architecture style for designing communication interfaces.\n",
    "\n",
    "2) Design\n",
    "\n",
    "SOAP API exposes the operation.\n",
    "\n",
    "REST API exposes the data.\n",
    "\n",
    "3) Transport Protocol\n",
    "\n",
    "SOAP is independent and can work with any transport protocol.\n",
    "\n",
    "REST works only with HTTPS.\n",
    "\n",
    "4) Data format\n",
    "\n",
    "SOAP supports only XML data exchange.\n",
    "\n",
    "REST supports XML, JSON, plain text, HTML.\n",
    "\n",
    "5) Performance\n",
    "\n",
    "SOAP messages are larger, which makes communication slower.\n",
    "\n",
    "REST has faster performance due to smaller messages and caching support.\n",
    "\n",
    "6) Scalability\n",
    "\n",
    "SOAP is difficult to scale. The server maintains state by storing all previous messages exchanged with a client.\n",
    "\n",
    "REST is easy to scale. It’s stateless, so every message is processed independently of previous messages.\n",
    "\n",
    "7) Security\n",
    "\n",
    "SOAP supports encryption with additional overheads.\n",
    "\n",
    "REST supports encryption without affecting performance.\n",
    "\n",
    "8) Use case\n",
    "\n",
    "SOAP is useful in legacy applications and private APIs.\n",
    "\n",
    "REST is useful in modern applications and public APIs."
   ]
  },
  {
   "cell_type": "code",
   "execution_count": null,
   "id": "7d1cfea7-4ebe-4e75-9d16-6442634db156",
   "metadata": {},
   "outputs": [],
   "source": []
  },
  {
   "cell_type": "code",
   "execution_count": null,
   "id": "3bf03162-7d72-4715-9383-c8353e052556",
   "metadata": {},
   "outputs": [],
   "source": []
  },
  {
   "cell_type": "code",
   "execution_count": null,
   "id": "422f4bc5-8cab-4a7f-a610-ea0bd74d9fc5",
   "metadata": {},
   "outputs": [],
   "source": []
  },
  {
   "cell_type": "code",
   "execution_count": null,
   "id": "a80b6664-a740-4d9a-9608-5472808cc289",
   "metadata": {},
   "outputs": [],
   "source": []
  }
 ],
 "metadata": {
  "kernelspec": {
   "display_name": "Python 3 (ipykernel)",
   "language": "python",
   "name": "python3"
  },
  "language_info": {
   "codemirror_mode": {
    "name": "ipython",
    "version": 3
   },
   "file_extension": ".py",
   "mimetype": "text/x-python",
   "name": "python",
   "nbconvert_exporter": "python",
   "pygments_lexer": "ipython3",
   "version": "3.10.8"
  }
 },
 "nbformat": 4,
 "nbformat_minor": 5
}
